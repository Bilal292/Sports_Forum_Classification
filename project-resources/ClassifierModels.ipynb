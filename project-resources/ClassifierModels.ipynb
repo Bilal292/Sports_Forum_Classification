{
 "cells": [
  {
   "cell_type": "code",
   "execution_count": 74,
   "metadata": {},
   "outputs": [
    {
     "data": {
      "text/html": [
       "<div>\n",
       "<style scoped>\n",
       "    .dataframe tbody tr th:only-of-type {\n",
       "        vertical-align: middle;\n",
       "    }\n",
       "\n",
       "    .dataframe tbody tr th {\n",
       "        vertical-align: top;\n",
       "    }\n",
       "\n",
       "    .dataframe thead th {\n",
       "        text-align: right;\n",
       "    }\n",
       "</style>\n",
       "<table border=\"1\" class=\"dataframe\">\n",
       "  <thead>\n",
       "    <tr style=\"text-align: right;\">\n",
       "      <th></th>\n",
       "      <th>text</th>\n",
       "      <th>category</th>\n",
       "    </tr>\n",
       "  </thead>\n",
       "  <tbody>\n",
       "    <tr>\n",
       "      <td>0</td>\n",
       "      <td>Check out 5 BTC sign up bonus start betting by...</td>\n",
       "      <td>cricket</td>\n",
       "    </tr>\n",
       "    <tr>\n",
       "      <td>1</td>\n",
       "      <td>ICCRankings Dethroned Virat Kohli after his ma...</td>\n",
       "      <td>cricket</td>\n",
       "    </tr>\n",
       "    <tr>\n",
       "      <td>2</td>\n",
       "      <td>Dow we really need this jamboree right now whe...</td>\n",
       "      <td>cricket</td>\n",
       "    </tr>\n",
       "    <tr>\n",
       "      <td>3</td>\n",
       "      <td>South Africa v Pakistan Fakhar Zaman ton seals...</td>\n",
       "      <td>cricket</td>\n",
       "    </tr>\n",
       "    <tr>\n",
       "      <td>4</td>\n",
       "      <td>Pakistan become first Asian team to win two bi...</td>\n",
       "      <td>cricket</td>\n",
       "    </tr>\n",
       "  </tbody>\n",
       "</table>\n",
       "</div>"
      ],
      "text/plain": [
       "                                                text category\n",
       "0  Check out 5 BTC sign up bonus start betting by...  cricket\n",
       "1  ICCRankings Dethroned Virat Kohli after his ma...  cricket\n",
       "2  Dow we really need this jamboree right now whe...  cricket\n",
       "3  South Africa v Pakistan Fakhar Zaman ton seals...  cricket\n",
       "4  Pakistan become first Asian team to win two bi...  cricket"
      ]
     },
     "execution_count": 74,
     "metadata": {},
     "output_type": "execute_result"
    }
   ],
   "source": [
    "import pandas as pd\n",
    "data = pd.read_csv(\"data.csv\")\n",
    "data.head() #testing\n"
   ]
  },
  {
   "cell_type": "code",
   "execution_count": 75,
   "metadata": {},
   "outputs": [
    {
     "data": {
      "text/plain": [
       "(4534, 2)"
      ]
     },
     "execution_count": 75,
     "metadata": {},
     "output_type": "execute_result"
    }
   ],
   "source": [
    "data.shape #tells us we have 4534 data all together and 2 headers (text and category)"
   ]
  },
  {
   "cell_type": "code",
   "execution_count": 6,
   "metadata": {},
   "outputs": [
    {
     "data": {
      "text/plain": [
       "rugby          500\n",
       "cricket        500\n",
       "football       500\n",
       "volleyball     500\n",
       "basketball     500\n",
       "tennis         500\n",
       "hockey         500\n",
       "baseball       500\n",
       "badminton      297\n",
       "tabletennis    237\n",
       "Name: category, dtype: int64"
      ]
     },
     "execution_count": 6,
     "metadata": {},
     "output_type": "execute_result"
    }
   ],
   "source": [
    "data['category'].value_counts() #this shows the amount of text for each category"
   ]
  },
  {
   "cell_type": "code",
   "execution_count": 76,
   "metadata": {},
   "outputs": [],
   "source": [
    "import string\n",
    "from nltk.corpus import stopwords\n",
    "\n",
    "def data_preprocessing(text):\n",
    "    #this line removes unnecesary punctuation for example \"!\",\",\" and splits the text in characters\n",
    "    remove_punct = [char for char in text if char not in string.punctuation]\n",
    "    \n",
    "    remove_punct=''.join(remove_punct) #joining characters back into words\n",
    "    \n",
    "    #this will tokenize the text and remove stop words \n",
    "    return [word for word in remove_punct.split() if word.lower() not in stopwords.words('english')]"
   ]
  },
  {
   "cell_type": "code",
   "execution_count": 77,
   "metadata": {},
   "outputs": [
    {
     "data": {
      "text/html": [
       "<div>\n",
       "<style scoped>\n",
       "    .dataframe tbody tr th:only-of-type {\n",
       "        vertical-align: middle;\n",
       "    }\n",
       "\n",
       "    .dataframe tbody tr th {\n",
       "        vertical-align: top;\n",
       "    }\n",
       "\n",
       "    .dataframe thead th {\n",
       "        text-align: right;\n",
       "    }\n",
       "</style>\n",
       "<table border=\"1\" class=\"dataframe\">\n",
       "  <thead>\n",
       "    <tr style=\"text-align: right;\">\n",
       "      <th></th>\n",
       "      <th>text</th>\n",
       "      <th>category</th>\n",
       "      <th>NUM_CATEGORY</th>\n",
       "    </tr>\n",
       "  </thead>\n",
       "  <tbody>\n",
       "    <tr>\n",
       "      <td>0</td>\n",
       "      <td>Check out 5 BTC sign up bonus start betting by...</td>\n",
       "      <td>cricket</td>\n",
       "      <td>0</td>\n",
       "    </tr>\n",
       "    <tr>\n",
       "      <td>1</td>\n",
       "      <td>ICCRankings Dethroned Virat Kohli after his ma...</td>\n",
       "      <td>cricket</td>\n",
       "      <td>0</td>\n",
       "    </tr>\n",
       "    <tr>\n",
       "      <td>2</td>\n",
       "      <td>Dow we really need this jamboree right now whe...</td>\n",
       "      <td>cricket</td>\n",
       "      <td>0</td>\n",
       "    </tr>\n",
       "    <tr>\n",
       "      <td>3</td>\n",
       "      <td>South Africa v Pakistan Fakhar Zaman ton seals...</td>\n",
       "      <td>cricket</td>\n",
       "      <td>0</td>\n",
       "    </tr>\n",
       "    <tr>\n",
       "      <td>4</td>\n",
       "      <td>Pakistan become first Asian team to win two bi...</td>\n",
       "      <td>cricket</td>\n",
       "      <td>0</td>\n",
       "    </tr>\n",
       "  </tbody>\n",
       "</table>\n",
       "</div>"
      ],
      "text/plain": [
       "                                                text category  NUM_CATEGORY\n",
       "0  Check out 5 BTC sign up bonus start betting by...  cricket             0\n",
       "1  ICCRankings Dethroned Virat Kohli after his ma...  cricket             0\n",
       "2  Dow we really need this jamboree right now whe...  cricket             0\n",
       "3  South Africa v Pakistan Fakhar Zaman ton seals...  cricket             0\n",
       "4  Pakistan become first Asian team to win two bi...  cricket             0"
      ]
     },
     "execution_count": 77,
     "metadata": {},
     "output_type": "execute_result"
    }
   ],
   "source": [
    "data['NUM_CATEGORY']=data.category.map({'cricket':0,'football':1,'basketball':2,'hockey':3,'tennis':4, 'volleyball':5, 'tabletennis':6, 'baseball':7, 'rugby':8, 'badminton':9})\n",
    "data.head()\n",
    "#this gives us a new column representing category as a number "
   ]
  },
  {
   "cell_type": "code",
   "execution_count": 78,
   "metadata": {},
   "outputs": [],
   "source": [
    "#This will split the dataset, so we will have 75% training set and 25%  test set randomised\n",
    "from sklearn.model_selection import train_test_split\n",
    "x_train, x_test, y_train, y_test = train_test_split(data.text, data.NUM_CATEGORY, random_state=50)"
   ]
  },
  {
   "cell_type": "code",
   "execution_count": 79,
   "metadata": {},
   "outputs": [],
   "source": [
    "#coverting the dataset into bag of words\n",
    "from sklearn.feature_extraction.text import CountVectorizer\n",
    "\n",
    "#making it use the pre-processing function defined earlier\n",
    "vect = CountVectorizer(analyzer=data_preprocessing) \n",
    "X_train = vect.fit_transform(x_train)\n",
    "X_test = vect.transform(x_test)\n"
   ]
  },
  {
   "cell_type": "code",
   "execution_count": 80,
   "metadata": {},
   "outputs": [],
   "source": [
    "#training and testing the naive bayes classifier\n",
    "from sklearn.naive_bayes import MultinomialNB\n",
    "\n",
    "classifier = MultinomialNB(alpha =0.2)\n",
    "\n",
    "classifier.fit(X_train,y_train) #training the classifier\n",
    "\n",
    "result = classifier.predict(X_test) #giving testing data to predict their categories \n"
   ]
  },
  {
   "cell_type": "code",
   "execution_count": 81,
   "metadata": {},
   "outputs": [
    {
     "name": "stdout",
     "output_type": "stream",
     "text": [
      "Accuracy of the Naive Bayes model:  73.80952380952381 %\n",
      "               precision    recall  f1-score   support\n",
      "\n",
      "    Cricket-0       0.89      0.77      0.83       115\n",
      "   Football-1       0.82      0.80      0.81       135\n",
      " Basketball-2       0.60      0.69      0.64       106\n",
      "     Hockey-3       0.85      0.79      0.82       138\n",
      "     Tennis-4       0.67      0.70      0.68       122\n",
      " Volleyball-5       0.69      0.71      0.70       130\n",
      "Tabletennis-6       0.72      0.65      0.69        52\n",
      "   Baseball-7       0.74      0.77      0.76       129\n",
      "      Rugby-8       0.76      0.74      0.75       136\n",
      "  Badminton-9       0.60      0.68      0.64        71\n",
      "\n",
      "     accuracy                           0.74      1134\n",
      "    macro avg       0.73      0.73      0.73      1134\n",
      " weighted avg       0.74      0.74      0.74      1134\n",
      "\n"
     ]
    },
    {
     "data": {
      "image/png": "[encoded data removed]",
      "text/plain": [
       "<Figure size 432x288 with 2 Axes>"
      ]
     },
     "metadata": {
      "needs_background": "light"
     },
     "output_type": "display_data"
    }
   ],
   "source": [
    "#THIS IS FOR NAIVE BAYES\n",
    "from sklearn.metrics import confusion_matrix\n",
    "from sklearn.metrics import classification_report\n",
    "import seaborn as sns\n",
    "from sklearn.metrics import accuracy_score\n",
    "#percentage of how accurate the predicted results are\n",
    "accuracy =  accuracy_score(result,y_test)\n",
    "print(\"Accuracy of the Naive Bayes model: \", accuracy*100,\"%\")\n",
    "cm = confusion_matrix(y_test, result)\n",
    "\n",
    "sns.heatmap(cm,annot=True,cmap='Blues', fmt='g')\n",
    "\n",
    "target_names = ['Cricket-0', 'Football-1', 'Basketball-2', 'Hockey-3', 'Tennis-4', 'Volleyball-5', 'Tabletennis-6', 'Baseball-7', 'Rugby-8', 'Badminton-9']\n",
    "print(classification_report(y_test, result, target_names=target_names))\n"
   ]
  },
  {
   "cell_type": "code",
   "execution_count": 83,
   "metadata": {},
   "outputs": [],
   "source": [
    "#training and testing logistic regression classifier\n",
    "from sklearn.linear_model import LogisticRegression\n",
    "classifier2 = LogisticRegression()\n",
    "\n",
    "classifier2.fit(X_train,y_train) #training the classifier\n",
    "\n",
    "result2 = classifier2.predict(X_test) #giving testing data to predict their categories \n"
   ]
  },
  {
   "cell_type": "code",
   "execution_count": 84,
   "metadata": {},
   "outputs": [
    {
     "name": "stdout",
     "output_type": "stream",
     "text": [
      "Accuracy of the Logistic Regression model:  73.28042328042328 %\n",
      "               precision    recall  f1-score   support\n",
      "\n",
      "    Cricket-0       0.89      0.79      0.84       115\n",
      "   Football-1       0.60      0.86      0.71       135\n",
      " Basketball-2       0.61      0.57      0.59       106\n",
      "     Hockey-3       0.76      0.76      0.76       138\n",
      "     Tennis-4       0.80      0.72      0.76       122\n",
      " Volleyball-5       0.64      0.75      0.69       130\n",
      "Tabletennis-6       0.83      0.58      0.68        52\n",
      "   Baseball-7       0.84      0.74      0.79       129\n",
      "      Rugby-8       0.77      0.72      0.75       136\n",
      "  Badminton-9       0.79      0.70      0.75        71\n",
      "\n",
      "     accuracy                           0.73      1134\n",
      "    macro avg       0.75      0.72      0.73      1134\n",
      " weighted avg       0.75      0.73      0.73      1134\n",
      "\n"
     ]
    },
    {
     "data": {
      "image/png": "[encoded data removed]",
      "text/plain": [
       "<Figure size 432x288 with 2 Axes>"
      ]
     },
     "metadata": {
      "needs_background": "light"
     },
     "output_type": "display_data"
    }
   ],
   "source": [
    "#THIS IS FOR LOGISTIC REGRESSION\n",
    "accuracy2 =  accuracy_score(result2,y_test)\n",
    "print(\"Accuracy of the Logistic Regression model: \",accuracy2*100,\"%\")\n",
    "cm2 = confusion_matrix(y_test, result2)\n",
    "\n",
    "sns.heatmap(cm2, annot=True,cmap='Blues', fmt='g')\n",
    "\n",
    "target_names = ['Cricket-0', 'Football-1', 'Basketball-2', 'Hockey-3', 'Tennis-4', 'Volleyball-5', 'Tabletennis-6', 'Baseball-7', 'Rugby-8', 'Badminton-9']\n",
    "print(classification_report(y_test, result2, target_names=target_names))"
   ]
  },
  {
   "cell_type": "code",
   "execution_count": 85,
   "metadata": {},
   "outputs": [],
   "source": [
    "def predict_category_num_nb(text):\n",
    "    test = vect.transform(text)\n",
    "    predicted = classifier.predict(test)\n",
    "    return predicted\n",
    "def predict_category_num_lr(text):\n",
    "    test2 = vect.transform(text)\n",
    "    predicted2 = classifier2.predict(test2)\n",
    "    return predicted2\n",
    "\n",
    "def get_category(predicted3):\n",
    "    if predicted3  == 0:\n",
    "         return 'Cricket'\n",
    "    elif predicted3 == 1:\n",
    "        return 'Football'\n",
    "    elif predicted3 == 2:\n",
    "        return 'Basketball'\n",
    "    elif predicted3 == 3:\n",
    "        return 'Hockey'\n",
    "    elif predicted3 == 4:\n",
    "        return 'Tennis'\n",
    "    elif predicted3 == 5:\n",
    "        return 'Volleyball'\n",
    "    elif predicted3 == 6:\n",
    "        return 'Table Tennis'\n",
    "    elif predicted3 == 7:\n",
    "        return 'Baseball'\n",
    "    elif predicted3 == 8:\n",
    "        return 'Rugby'\n",
    "    elif predicted3 == 9:\n",
    "        return 'Badminton'\n",
    "    else:\n",
    "        return 'no class found'\n"
   ]
  },
  {
   "cell_type": "code",
   "execution_count": 87,
   "metadata": {},
   "outputs": [
    {
     "name": "stdout",
     "output_type": "stream",
     "text": [
      "Type your text: \n",
      "\n",
      "Association football, more commonly known as simply football or soccer, is a team sport played by all genders with a spherical ball between two teams of 11 players.\n",
      "\n",
      "Using Naive Bayes, the text belongs to the following category: Rugby\n",
      "Using Logistic Regression, the text belongs to the following category: Football\n"
     ]
    }
   ],
   "source": [
    "#RUN THIS TO TYPE TEXT AND GET PREDICTIONS FROM THE CLASSIFIERS\n",
    "print(\"Type your text: \")\n",
    "print()\n",
    "userText = input()\n",
    "\n",
    "predicted_nb = predict_category_num_nb([userText])\n",
    "predicted_lr = predict_category_num_lr([userText])\n",
    "\n",
    "category_nb = get_category(predicted_nb)\n",
    "category_lr = get_category(predicted_lr)\n",
    "\n",
    "print()\n",
    "print(\"Using Naive Bayes, the text belongs to the following category: \" + category_nb)\n",
    "print(\"Using Logistic Regression, the text belongs to the following category: \" + category_lr)\n",
    "\n"
   ]
  },
  {
   "cell_type": "code",
   "execution_count": null,
   "metadata": {},
   "outputs": [],
   "source": []
  }
 ],
 "metadata": {
  "kernelspec": {
   "display_name": "Python 3",
   "language": "python",
   "name": "python3"
  },
  "language_info": {
   "codemirror_mode": {
    "name": "ipython",
    "version": 3
   },
   "file_extension": ".py",
   "mimetype": "text/x-python",
   "name": "python",
   "nbconvert_exporter": "python",
   "pygments_lexer": "ipython3",
   "version": "3.7.3"
  }
 },
 "nbformat": 4,
 "nbformat_minor": 2
}
